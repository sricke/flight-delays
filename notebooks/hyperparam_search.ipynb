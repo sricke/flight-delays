{
 "cells": [
  {
   "cell_type": "code",
   "execution_count": 19,
   "metadata": {},
   "outputs": [],
   "source": [
    "import os \n",
    "import sys\n",
    "import pandas as pd\n",
    "import numpy as np"
   ]
  },
  {
   "cell_type": "code",
   "execution_count": 2,
   "metadata": {},
   "outputs": [],
   "source": [
    "module_path = os.path.abspath(os.path.join('..'))\n",
    "if module_path not in sys.path:\n",
    "    sys.path.append(module_path)\n",
    "os.chdir('../')"
   ]
  },
  {
   "cell_type": "code",
   "execution_count": 10,
   "metadata": {},
   "outputs": [],
   "source": [
    "from src.dataset import load_dataset"
   ]
  },
  {
   "attachments": {},
   "cell_type": "markdown",
   "metadata": {},
   "source": [
    "Cargamos los datos"
   ]
  },
  {
   "cell_type": "code",
   "execution_count": 11,
   "metadata": {},
   "outputs": [
    {
     "name": "stdout",
     "output_type": "stream",
     "text": [
      "   Temp-A  Per-D  ATRASADO\n",
      "0    True  night     False\n",
      "1    True  night     False\n",
      "2    True  night     False\n",
      "3    True  night     False\n",
      "4    True  night      True\n",
      "  MES     DIANOM TIPOVUELO              OPERA  SIGLAORI SIGLADES Temp-A  Per-D\n",
      "0   1    Domingo         I  American Airlines  Santiago    Miami   True  night\n",
      "1   1      Lunes         I  American Airlines  Santiago    Miami   True  night\n",
      "2   1     Martes         I  American Airlines  Santiago    Miami   True  night\n",
      "3   1  Miercoles         I  American Airlines  Santiago    Miami   True  night\n",
      "4   1     Jueves         I  American Airlines  Santiago    Miami   True  night\n",
      "---------- Dataset Info ----------\n",
      "\n",
      "Number of datapoints: 68206\n",
      "Number of datapoints train: 54564\n",
      "Percentage positive examples train: 0.45007697382889816\n",
      "Number of datapoints test: 13642\n",
      "Percentage positive examples test: 0.4489810878170356\n",
      "Number of features per row: 8\n"
     ]
    }
   ],
   "source": [
    "X_train, X_test, y_train, y_test = load_dataset(\n",
    "        filename = 'dataset_SCL.csv',\n",
    "        synthetic_filename='synthetic_features.csv',\n",
    "        seed=43,\n",
    "        val_size=0.2\n",
    "    )"
   ]
  },
  {
   "attachments": {},
   "cell_type": "markdown",
   "metadata": {},
   "source": [
    "Queremos sin split asique se vuelven a juntar"
   ]
  },
  {
   "cell_type": "code",
   "execution_count": 20,
   "metadata": {},
   "outputs": [
    {
     "data": {
      "text/plain": [
       "array([1, 1, 1, ..., 1, 1, 0])"
      ]
     },
     "execution_count": 20,
     "metadata": {},
     "output_type": "execute_result"
    }
   ],
   "source": [
    "y_train"
   ]
  },
  {
   "cell_type": "code",
   "execution_count": 21,
   "metadata": {},
   "outputs": [],
   "source": [
    "X = pd.concat([X_train, X_test], axis=0)\n",
    "y = np.concatenate((y_train, y_test), axis=0)"
   ]
  },
  {
   "cell_type": "code",
   "execution_count": 23,
   "metadata": {},
   "outputs": [],
   "source": [
    "from xgboost import XGBClassifier"
   ]
  },
  {
   "attachments": {},
   "cell_type": "markdown",
   "metadata": {},
   "source": [
    "Establecemos los parametros y valores a probar"
   ]
  },
  {
   "cell_type": "code",
   "execution_count": 70,
   "metadata": {},
   "outputs": [],
   "source": [
    "params = {\n",
    "        'min_child_weight': [1, 5, 10],\n",
    "        'gamma': [0, 0.1, 0.2, 0.5, 1],\n",
    "        'subsample': [0.6, 0.8, 1.0],\n",
    "        'colsample_bytree': [0.6, 0.8, 1.0],\n",
    "        'max_depth': [5, 6, 7, 8],\n",
    "        'learning_rate': [0.1, 0.15, 0.2, 0.3],\n",
    "        'n_estimators': [700, 800, 900, 1000]\n",
    "        }"
   ]
  },
  {
   "attachments": {},
   "cell_type": "markdown",
   "metadata": {},
   "source": [
    "Instanciamos el modelo"
   ]
  },
  {
   "cell_type": "code",
   "execution_count": 54,
   "metadata": {},
   "outputs": [],
   "source": [
    "xgb = XGBClassifier(tree_method=\"hist\",\n",
    "                    silent=True, nthread=1, enable_categorical=True,)"
   ]
  },
  {
   "cell_type": "code",
   "execution_count": 26,
   "metadata": {},
   "outputs": [],
   "source": [
    "import time\n",
    "from sklearn.model_selection import RandomizedSearchCV, GridSearchCV\n",
    "from sklearn.metrics import roc_auc_score\n",
    "from sklearn.model_selection import StratifiedKFold"
   ]
  },
  {
   "attachments": {},
   "cell_type": "markdown",
   "metadata": {},
   "source": [
    "Utilizamos la busqueda de hiperparamteros, utilizando 3-folds estratificados (presencia de clases) para evaluar el resultado segun la metrica AUC"
   ]
  },
  {
   "cell_type": "code",
   "execution_count": 66,
   "metadata": {},
   "outputs": [
    {
     "name": "stdout",
     "output_type": "stream",
     "text": [
      "Fitting 3 folds for each of 10 candidates, totalling 30 fits\n",
      "[22:07:08] WARNING: /Users/runner/miniforge3/conda-bld/xgboost-split_1685694848790/work/src/learner.cc:767: \n",
      "Parameters: { \"silent\" } are not used.\n",
      "\n",
      "[22:07:08] WARNING: /Users/runner/miniforge3/conda-bld/xgboost-split_1685694848790/work/src/learner.cc:767: \n",
      "Parameters: { \"silent\" } are not used.\n",
      "\n",
      "[22:07:08] WARNING: /Users/runner/miniforge3/conda-bld/xgboost-split_1685694848790/work/src/learner.cc:767: \n",
      "Parameters: { \"silent\" } are not used.\n",
      "\n",
      "[22:07:08] WARNING: /Users/runner/miniforge3/conda-bld/xgboost-split_1685694848790/work/src/learner.cc:767: \n",
      "Parameters: { \"silent\" } are not used.\n",
      "\n",
      "[22:07:08] WARNING: /Users/runner/miniforge3/conda-bld/xgboost-split_1685694848790/work/src/learner.cc:767: \n",
      "Parameters: { \"silent\" } are not used.\n",
      "\n",
      "[22:07:08] WARNING: /Users/runner/miniforge3/conda-bld/xgboost-split_1685694848790/work/src/learner.cc:767: \n",
      "Parameters: { \"silent\" } are not used.\n",
      "\n",
      "[22:07:08] WARNING: /Users/runner/miniforge3/conda-bld/xgboost-split_1685694848790/work/src/learner.cc:767: \n",
      "Parameters: { \"silent\" } are not used.\n",
      "\n",
      "[22:07:08] WARNING: /Users/runner/miniforge3/conda-bld/xgboost-split_1685694848790/work/src/learner.cc:767: \n",
      "Parameters: { \"silent\" } are not used.\n",
      "\n",
      "[22:07:08] WARNING: /Users/runner/miniforge3/conda-bld/xgboost-split_1685694848790/work/src/learner.cc:767: \n",
      "Parameters: { \"silent\" } are not used.\n",
      "\n",
      "[22:07:08] WARNING: /Users/runner/miniforge3/conda-bld/xgboost-split_1685694848790/work/src/learner.cc:767: \n",
      "Parameters: { \"silent\" } are not used.\n",
      "\n",
      "[CV 3/3] END colsample_bytree=0.8, gamma=0, learning_rate=0.1, max_depth=7, min_child_weight=1, n_estimators=700, subsample=0.8;, score=0.597 total time=   6.4s\n",
      "[CV 1/3] END colsample_bytree=0.8, gamma=0, learning_rate=0.1, max_depth=7, min_child_weight=1, n_estimators=700, subsample=0.8;, score=0.596 total time=   6.5s\n",
      "[CV 1/3] END colsample_bytree=1.0, gamma=0, learning_rate=0.2, max_depth=7, min_child_weight=1, n_estimators=700, subsample=0.6;, score=0.580 total time=   6.5s\n",
      "[22:07:14] WARNING: /Users/runner/miniforge3/conda-bld/xgboost-split_1685694848790/work/src/learner.cc:767: \n",
      "Parameters: { \"silent\" } are not used.\n",
      "\n",
      "[22:07:14] WARNING: /Users/runner/miniforge3/conda-bld/xgboost-split_1685694848790/work/src/learner.cc:767: \n",
      "Parameters: { \"silent\" } are not used.\n",
      "\n",
      "[22:07:14] WARNING: /Users/runner/miniforge3/conda-bld/xgboost-split_1685694848790/work/src/learner.cc:767: \n",
      "Parameters: { \"silent\" } are not used.\n",
      "\n",
      "[CV 2/3] END colsample_bytree=0.8, gamma=0, learning_rate=0.1, max_depth=7, min_child_weight=1, n_estimators=700, subsample=0.8;, score=0.598 total time=   6.6s\n",
      "[22:07:15] WARNING: /Users/runner/miniforge3/conda-bld/xgboost-split_1685694848790/work/src/learner.cc:767: \n",
      "Parameters: { \"silent\" } are not used.\n",
      "\n",
      "[CV 3/3] END colsample_bytree=0.6, gamma=0, learning_rate=0.15, max_depth=7, min_child_weight=1, n_estimators=1000, subsample=1.0;, score=0.602 total time=   7.9s\n",
      "[22:07:16] WARNING: /Users/runner/miniforge3/conda-bld/xgboost-split_1685694848790/work/src/learner.cc:767: \n",
      "Parameters: { \"silent\" } are not used.\n",
      "\n",
      "[CV 2/3] END colsample_bytree=0.6, gamma=0, learning_rate=0.15, max_depth=7, min_child_weight=1, n_estimators=1000, subsample=1.0;, score=0.601 total time=   8.6s\n",
      "[22:07:16] WARNING: /Users/runner/miniforge3/conda-bld/xgboost-split_1685694848790/work/src/learner.cc:767: \n",
      "Parameters: { \"silent\" } are not used.\n",
      "\n",
      "[CV 1/3] END colsample_bytree=0.6, gamma=0, learning_rate=0.15, max_depth=7, min_child_weight=1, n_estimators=1000, subsample=1.0;, score=0.599 total time=   8.7s\n",
      "[22:07:16] WARNING: /Users/runner/miniforge3/conda-bld/xgboost-split_1685694848790/work/src/learner.cc:767: \n",
      "Parameters: { \"silent\" } are not used.\n",
      "\n",
      "[CV 3/3] END colsample_bytree=0.6, gamma=0, learning_rate=0.15, max_depth=8, min_child_weight=10, n_estimators=1000, subsample=0.8;, score=0.602 total time=   9.3s\n",
      "[22:07:17] WARNING: /Users/runner/miniforge3/conda-bld/xgboost-split_1685694848790/work/src/learner.cc:767: \n",
      "Parameters: { \"silent\" } are not used.\n",
      "\n",
      "[CV 1/3] END colsample_bytree=0.6, gamma=0, learning_rate=0.15, max_depth=8, min_child_weight=10, n_estimators=1000, subsample=0.8;, score=0.600 total time=   9.5s\n",
      "[22:07:17] WARNING: /Users/runner/miniforge3/conda-bld/xgboost-split_1685694848790/work/src/learner.cc:767: \n",
      "Parameters: { \"silent\" } are not used.\n",
      "\n",
      "[CV 2/3] END colsample_bytree=0.6, gamma=0, learning_rate=0.15, max_depth=8, min_child_weight=10, n_estimators=1000, subsample=0.8;, score=0.603 total time=   9.8s\n",
      "[22:07:18] WARNING: /Users/runner/miniforge3/conda-bld/xgboost-split_1685694848790/work/src/learner.cc:767: \n",
      "Parameters: { \"silent\" } are not used.\n",
      "\n",
      "[CV 3/3] END colsample_bytree=1.0, gamma=0, learning_rate=0.2, max_depth=7, min_child_weight=1, n_estimators=700, subsample=0.6;, score=0.582 total time=   6.4s\n",
      "[CV 2/3] END colsample_bytree=1.0, gamma=0, learning_rate=0.2, max_depth=7, min_child_weight=1, n_estimators=700, subsample=0.6;, score=0.582 total time=   6.5s\n",
      "[22:07:21] WARNING: /Users/runner/miniforge3/conda-bld/xgboost-split_1685694848790/work/src/learner.cc:767: \n",
      "Parameters: { \"silent\" } are not used.\n",
      "\n",
      "[22:07:21] WARNING: /Users/runner/miniforge3/conda-bld/xgboost-split_1685694848790/work/src/learner.cc:767: \n",
      "Parameters: { \"silent\" } are not used.\n",
      "\n",
      "[CV 1/3] END colsample_bytree=0.6, gamma=0.2, learning_rate=0.1, max_depth=8, min_child_weight=10, n_estimators=1000, subsample=0.8;, score=0.607 total time=   7.2s\n",
      "[22:07:22] WARNING: /Users/runner/miniforge3/conda-bld/xgboost-split_1685694848790/work/src/learner.cc:767: \n",
      "Parameters: { \"silent\" } are not used.\n",
      "\n",
      "[CV 3/3] END colsample_bytree=0.6, gamma=0.1, learning_rate=0.1, max_depth=5, min_child_weight=10, n_estimators=800, subsample=0.6;, score=0.621 total time=   4.7s\n",
      "[22:07:22] WARNING: /Users/runner/miniforge3/conda-bld/xgboost-split_1685694848790/work/src/learner.cc:767: \n",
      "Parameters: { \"silent\" } are not used.\n",
      "\n",
      "[CV 1/3] END colsample_bytree=0.6, gamma=0.1, learning_rate=0.2, max_depth=5, min_child_weight=1, n_estimators=800, subsample=0.6;, score=0.613 total time=   4.6s\n",
      "[22:07:22] WARNING: /Users/runner/miniforge3/conda-bld/xgboost-split_1685694848790/work/src/learner.cc:767: \n",
      "Parameters: { \"silent\" } are not used.\n",
      "\n",
      "[CV 2/3] END colsample_bytree=0.6, gamma=0.1, learning_rate=0.2, max_depth=5, min_child_weight=1, n_estimators=800, subsample=0.6;, score=0.613 total time=   4.6s\n",
      "[22:07:22] WARNING: /Users/runner/miniforge3/conda-bld/xgboost-split_1685694848790/work/src/learner.cc:767: \n",
      "Parameters: { \"silent\" } are not used.\n",
      "\n",
      "[CV 1/3] END colsample_bytree=0.6, gamma=0.1, learning_rate=0.1, max_depth=5, min_child_weight=10, n_estimators=800, subsample=0.6;, score=0.620 total time=   6.0s\n",
      "[CV 2/3] END colsample_bytree=0.6, gamma=0.1, learning_rate=0.1, max_depth=5, min_child_weight=10, n_estimators=800, subsample=0.6;, score=0.620 total time=   5.9s\n",
      "[22:07:22] WARNING: /Users/runner/miniforge3/conda-bld/xgboost-split_1685694848790/work/src/learner.cc:767: \n",
      "Parameters: { \"silent\" } are not used.\n",
      "\n",
      "[22:07:22] WARNING: /Users/runner/miniforge3/conda-bld/xgboost-split_1685694848790/work/src/learner.cc:767: \n",
      "Parameters: { \"silent\" } are not used.\n",
      "\n",
      "[CV 3/3] END colsample_bytree=0.6, gamma=0.2, learning_rate=0.1, max_depth=8, min_child_weight=10, n_estimators=1000, subsample=0.8;, score=0.610 total time=   7.0s\n",
      "[22:07:23] WARNING: /Users/runner/miniforge3/conda-bld/xgboost-split_1685694848790/work/src/learner.cc:767: \n",
      "Parameters: { \"silent\" } are not used.\n",
      "\n",
      "[CV 2/3] END colsample_bytree=0.6, gamma=0.2, learning_rate=0.1, max_depth=8, min_child_weight=10, n_estimators=1000, subsample=0.8;, score=0.608 total time=   9.2s\n",
      "[22:07:24] WARNING: /Users/runner/miniforge3/conda-bld/xgboost-split_1685694848790/work/src/learner.cc:767: \n",
      "Parameters: { \"silent\" } are not used.\n",
      "\n",
      "[CV 1/3] END colsample_bytree=0.6, gamma=0.2, learning_rate=0.1, max_depth=6, min_child_weight=10, n_estimators=700, subsample=1.0;, score=0.631 total time=   1.5s\n",
      "[CV 2/3] END colsample_bytree=0.6, gamma=0.2, learning_rate=0.1, max_depth=6, min_child_weight=10, n_estimators=700, subsample=1.0;, score=0.631 total time=   1.1s\n",
      "[CV 3/3] END colsample_bytree=0.6, gamma=0.2, learning_rate=0.1, max_depth=6, min_child_weight=10, n_estimators=700, subsample=1.0;, score=0.625 total time=   1.1s\n",
      "[CV 3/3] END colsample_bytree=0.6, gamma=0.1, learning_rate=0.2, max_depth=5, min_child_weight=1, n_estimators=800, subsample=0.6;, score=0.615 total time=   4.6s\n",
      "[CV 1/3] END colsample_bytree=0.6, gamma=0.2, learning_rate=0.2, max_depth=5, min_child_weight=5, n_estimators=1000, subsample=0.6;, score=0.612 total time=   5.4s\n",
      "[CV 1/3] END colsample_bytree=1.0, gamma=0, learning_rate=0.1, max_depth=5, min_child_weight=1, n_estimators=800, subsample=0.8;, score=0.608 total time=   4.5s\n",
      "[CV 2/3] END colsample_bytree=1.0, gamma=0, learning_rate=0.1, max_depth=5, min_child_weight=1, n_estimators=800, subsample=0.8;, score=0.607 total time=   4.5s\n",
      "[CV 2/3] END colsample_bytree=0.6, gamma=0.2, learning_rate=0.2, max_depth=5, min_child_weight=5, n_estimators=1000, subsample=0.6;, score=0.612 total time=   5.3s\n",
      "[CV 3/3] END colsample_bytree=0.6, gamma=0.2, learning_rate=0.2, max_depth=5, min_child_weight=5, n_estimators=1000, subsample=0.6;, score=0.613 total time=   5.3s\n",
      "[CV 3/3] END colsample_bytree=1.0, gamma=0, learning_rate=0.1, max_depth=5, min_child_weight=1, n_estimators=800, subsample=0.8;, score=0.609 total time=   5.1s\n",
      "[22:07:28] WARNING: /Users/runner/miniforge3/conda-bld/xgboost-split_1685694848790/work/src/learner.cc:767: \n",
      "Parameters: { \"silent\" } are not used.\n",
      "\n",
      "21.933268070220947\n"
     ]
    }
   ],
   "source": [
    "folds = 3\n",
    "\n",
    "skf = StratifiedKFold(n_splits=folds, shuffle = True, random_state = 1001)\n",
    "\n",
    "random_search = RandomizedSearchCV(xgb, param_distributions=params, n_iter=10, scoring='roc_auc', n_jobs=-1, cv=skf.split(X,y), verbose=3, random_state=1001 )\n",
    "\n",
    "# Here we go\n",
    "start = time.time()\n",
    "random_search.fit(X, y)\n",
    "end = time.time()\n",
    "print(end - start)"
   ]
  },
  {
   "cell_type": "code",
   "execution_count": 67,
   "metadata": {},
   "outputs": [
    {
     "name": "stdout",
     "output_type": "stream",
     "text": [
      "Best tree XGBClassifier(base_score=None, booster=None, callbacks=None,\n",
      "              colsample_bylevel=None, colsample_bynode=None,\n",
      "              colsample_bytree=0.6, early_stopping_rounds=None,\n",
      "              enable_categorical=True, eval_metric=None, feature_types=None,\n",
      "              gamma=0.2, gpu_id=None, grow_policy=None, importance_type=None,\n",
      "              interaction_constraints=None, learning_rate=0.1, max_bin=None,\n",
      "              max_cat_threshold=None, max_cat_to_onehot=None,\n",
      "              max_delta_step=None, max_depth=6, max_leaves=None,\n",
      "              min_child_weight=10, missing=nan, monotone_constraints=None,\n",
      "              n_estimators=700, n_jobs=None, nthread=1, num_parallel_tree=None,\n",
      "              predictor=None, ...)\n"
     ]
    }
   ],
   "source": [
    "print(f\"Best tree {random_search.best_estimator_}\")"
   ]
  },
  {
   "attachments": {},
   "cell_type": "markdown",
   "metadata": {},
   "source": [
    "Obtenemos el mejor resultado"
   ]
  },
  {
   "cell_type": "code",
   "execution_count": 68,
   "metadata": {},
   "outputs": [
    {
     "name": "stdout",
     "output_type": "stream",
     "text": [
      "Best score 0.6288601123480311\n"
     ]
    }
   ],
   "source": [
    "print(f\"Best score {random_search.best_score_}\")"
   ]
  },
  {
   "attachments": {},
   "cell_type": "markdown",
   "metadata": {},
   "source": [
    "Guardamos los hiperparametros"
   ]
  },
  {
   "cell_type": "code",
   "execution_count": 69,
   "metadata": {},
   "outputs": [
    {
     "name": "stdout",
     "output_type": "stream",
     "text": [
      "{'subsample': 1.0, 'n_estimators': 700, 'min_child_weight': 10, 'max_depth': 6, 'learning_rate': 0.1, 'gamma': 0.2, 'colsample_bytree': 0.6}\n"
     ]
    }
   ],
   "source": [
    "print(random_search.best_params_)"
   ]
  }
 ],
 "metadata": {
  "kernelspec": {
   "display_name": "flight-delays",
   "language": "python",
   "name": "python3"
  },
  "language_info": {
   "codemirror_mode": {
    "name": "ipython",
    "version": 3
   },
   "file_extension": ".py",
   "mimetype": "text/x-python",
   "name": "python",
   "nbconvert_exporter": "python",
   "pygments_lexer": "ipython3",
   "version": "3.9.16"
  },
  "orig_nbformat": 4
 },
 "nbformat": 4,
 "nbformat_minor": 2
}
